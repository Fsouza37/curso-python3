{
 "cells": [
  {
   "cell_type": "markdown",
   "metadata": {},
   "source": [
    "# Python fundamentos\n",
    "\n",
    "## Variáveis Python"
   ]
  },
  {
   "cell_type": "code",
   "execution_count": 9,
   "metadata": {},
   "outputs": [
    {
     "name": "stdout",
     "output_type": "stream",
     "text": [
      "15.2\n"
     ]
    }
   ],
   "source": [
    "a=10\n",
    "b=5.2 #numero real ou float \n",
    "print(a+b)\n",
    "c='variavel do tipo string'"
   ]
  },
  {
   "cell_type": "markdown",
   "metadata": {},
   "source": [
    "Sobre a extrutura das variáveis\n",
    "\n",
    "A=B Onde A se chama identificador, = operador de atribuição e B é o valor"
   ]
  },
  {
   "cell_type": "markdown",
   "metadata": {},
   "source": [
    "## Comentários em python"
   ]
  },
  {
   "cell_type": "code",
   "execution_count": 5,
   "metadata": {},
   "outputs": [],
   "source": [
    "# Para uma linha"
   ]
  },
  {
   "cell_type": "markdown",
   "metadata": {},
   "source": [
    "https://docs.python.org/pt-br/3/tutorial/introduction.html#strings"
   ]
  },
  {
   "cell_type": "markdown",
   "metadata": {},
   "source": [
    "# Números e operacoes matematicas"
   ]
  },
  {
   "cell_type": "markdown",
   "metadata": {},
   "source": [
    "## 2 Tipos principais"
   ]
  },
  {
   "cell_type": "markdown",
   "metadata": {},
   "source": [
    "https://docs.python.org/3/library/index.html"
   ]
  },
  {
   "cell_type": "raw",
   "metadata": {},
   "source": [
    "# int() -> inteiros positivos e negativos. Ex: -7 e 7.\n",
    "#### float -> numeros fracionários, positivos e negativos. Ex: -7.1 e 7.1\n",
    "\n",
    "#### a funçao type() serve para saber qual é o tipo de número\n",
    "\n",
    "#### Podemos usar as funçoes int() e float() para converter os numeros.\n",
    "\n",
    "#### O que sao funçoes Built-in? Sao funçoes interna do Python\n",
    "https://docs.python.org/3/library/index.html\n",
    "\n",
    "# Operadores aritimeticos\n",
    "\n",
    "#        OPERADOR                        SIGNIFICADO                EXEMPLO\n",
    "##           +                              soma                   2 + 2 -> 4\n",
    "##           -                            subtraçao                3 - 2 -> 1 \n",
    "##           *                          multiplicaçao              2 * 3 -> 6\n",
    "##           %                             modulo                  5 % 2 -> 1                     \n",
    "##           **                           potencia                 4 ** 2 -> 16\n",
    "##           /                            divisao                  10 / 2 -> 5\n",
    "##           int()                    converte p/ inteiro          int(3.2) -> 3\n",
    "##           float()                   converte p/ float           float(2) -> 2.0"
   ]
  }
 ],
 "metadata": {
  "kernelspec": {
   "display_name": "Python 3",
   "language": "python",
   "name": "python3"
  },
  "language_info": {
   "codemirror_mode": {
    "name": "ipython",
    "version": 3
   },
   "file_extension": ".py",
   "mimetype": "text/x-python",
   "name": "python",
   "nbconvert_exporter": "python",
   "pygments_lexer": "ipython3",
   "version": "3.8.3"
  }
 },
 "nbformat": 4,
 "nbformat_minor": 4
}
